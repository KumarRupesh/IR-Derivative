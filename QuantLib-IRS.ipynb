{
 "cells": [
  {
   "cell_type": "code",
   "execution_count": 2,
   "metadata": {},
   "outputs": [],
   "source": [
    "import QuantLib as ql"
   ]
  },
  {
   "cell_type": "code",
   "execution_count": 8,
   "metadata": {},
   "outputs": [
    {
     "ename": "NameError",
     "evalue": "name 'dates' is not defined",
     "output_type": "error",
     "traceback": [
      "\u001b[1;31m---------------------------------------------------------------------------\u001b[0m",
      "\u001b[1;31mNameError\u001b[0m                                 Traceback (most recent call last)",
      "\u001b[1;32m<ipython-input-8-5a95685327f4>\u001b[0m in \u001b[0;36m<module>\u001b[1;34m\u001b[0m\n\u001b[0;32m     41\u001b[0m \u001b[0mjibarTermStructure\u001b[0m \u001b[1;33m=\u001b[0m \u001b[0mql\u001b[0m\u001b[1;33m.\u001b[0m\u001b[0mRelinkableYieldTermStructureHandle\u001b[0m\u001b[1;33m(\u001b[0m\u001b[1;33m)\u001b[0m\u001b[1;33m\u001b[0m\u001b[1;33m\u001b[0m\u001b[0m\n\u001b[0;32m     42\u001b[0m \u001b[0mjibarIndex\u001b[0m \u001b[1;33m=\u001b[0m \u001b[0mql\u001b[0m\u001b[1;33m.\u001b[0m\u001b[0mJibar\u001b[0m\u001b[1;33m(\u001b[0m\u001b[0mql\u001b[0m\u001b[1;33m.\u001b[0m\u001b[0mPeriod\u001b[0m\u001b[1;33m(\u001b[0m\u001b[1;36m3\u001b[0m\u001b[1;33m,\u001b[0m\u001b[0mql\u001b[0m\u001b[1;33m.\u001b[0m\u001b[0mMonths\u001b[0m\u001b[1;33m)\u001b[0m\u001b[1;33m,\u001b[0m \u001b[0mjibarTermStructure\u001b[0m\u001b[1;33m)\u001b[0m\u001b[1;33m\u001b[0m\u001b[1;33m\u001b[0m\u001b[0m\n\u001b[1;32m---> 43\u001b[1;33m \u001b[0mjibarIndex\u001b[0m\u001b[1;33m.\u001b[0m\u001b[0maddFixings\u001b[0m\u001b[1;33m(\u001b[0m\u001b[0mdates\u001b[0m\u001b[1;33m,\u001b[0m \u001b[0mfixings\u001b[0m\u001b[1;33m)\u001b[0m\u001b[1;33m\u001b[0m\u001b[1;33m\u001b[0m\u001b[0m\n\u001b[0m\u001b[0;32m     44\u001b[0m \u001b[0mdiscountCurve\u001b[0m \u001b[1;33m=\u001b[0m \u001b[0mql\u001b[0m\u001b[1;33m.\u001b[0m\u001b[0mDiscountCurve\u001b[0m\u001b[1;33m(\u001b[0m\u001b[0mdiscountDates\u001b[0m\u001b[1;33m,\u001b[0m\u001b[0mdiscountRates\u001b[0m\u001b[1;33m,\u001b[0m\u001b[0mql\u001b[0m\u001b[1;33m.\u001b[0m\u001b[0mActual365Fixed\u001b[0m\u001b[1;33m(\u001b[0m\u001b[1;33m)\u001b[0m\u001b[1;33m)\u001b[0m\u001b[1;33m\u001b[0m\u001b[1;33m\u001b[0m\u001b[0m\n\u001b[0;32m     45\u001b[0m \u001b[0mswapEngine\u001b[0m \u001b[1;33m=\u001b[0m \u001b[0mql\u001b[0m\u001b[1;33m.\u001b[0m\u001b[0mDiscountingSwapEngine\u001b[0m\u001b[1;33m(\u001b[0m\u001b[0mdiscountCurve\u001b[0m\u001b[1;33m)\u001b[0m\u001b[1;33m\u001b[0m\u001b[1;33m\u001b[0m\u001b[0m\n",
      "\u001b[1;31mNameError\u001b[0m: name 'dates' is not defined"
     ]
    }
   ],
   "source": [
    "startDate = ql.Date(31,12,2016)\n",
    "valuationDate = ql.Date(31,1,2017)\n",
    "maturityDate = ql.Date(30,9,2020)\n",
    "calendar = ql.SouthAfrica()\n",
    "business_covention = ql.Unadjusted\n",
    "swapT=ql.VanillaSwap.Payer\n",
    "nominal = 100000\n",
    "fixedLegTenor = ql.Period(3,ql.Months)\n",
    "\n",
    "fixedSchedule = ql.Schedule(startDate, maturityDate, \n",
    "                             fixedLegTenor, calendar,\n",
    "                             ql.ModifiedFollowing, ql.ModifiedFollowing,\n",
    "                             ql.DateGeneration.Forward, False)\n",
    "\n",
    "fixedRate = 0.077\n",
    "fixedLegDayCount = ql.Actual365Fixed\n",
    "spred = 0\n",
    "floatLegTenor = ql.Period(3, ql.Months)\n",
    "\n",
    "floatSchedule = ql.Schedule(startDate, maturityDate, \n",
    "                              floatLegTenor, calendar,\n",
    "                              ql.ModifiedFollowing, ql.ModifiedFollowing,\n",
    "                              ql.DateGeneration.Forward, False)\n",
    "\n",
    "floatLegDayCount = ql.Actual365Fixed()\n",
    "\n",
    "\n",
    "discountDates = [ql.Date(31,1,2017),ql.Date(7,2,2017),ql.Date(28,2,2017),\n",
    "                ql.Date(31,3,2017),ql.Date(28,4,2017),ql.Date(31,7,2017),\n",
    "                ql.Date(31,10,2017),ql.Date(31,1,2018),ql.Date(31,1,2019),\n",
    "                ql.Date(31,1,2020),ql.Date(29,1,2021),ql.Date(31,1,2022),\n",
    "                ql.Date(31,1,2023),ql.Date(31,1,2024),ql.Date(31,1,2025),\n",
    "                ql.Date(30,1,2026),ql.Date(29,1,2027),ql.Date(31,1,2029),\n",
    "                ql.Date(30,1,2032),ql.Date(30,1,2037),ql.Date(31,1,2042),\n",
    "                ql.Date(31,1,2047)]\n",
    "discountRates = [1,0.9986796,0.99457,0.9884423,0.9827433,0.9620352,0.9420467,0.9218714,\n",
    "                 0.863127,0.7993626,0.7384982,0.6796581,0.6244735,0.5722537,0.5236629,\n",
    "                 0.4779477,0.4362076,0.3619845,0.2795902,0.1886847,0.1352048,0.1062697]\n",
    "\n",
    "\n",
    "jibarTermStructure = ql.RelinkableYieldTermStructureHandle()\n",
    "jibarIndex = ql.Jibar(ql.Period(3,ql.Months), jibarTermStructure)\n",
    "jibarIndex.addFixings(dtes, fixings)\n",
    "discountCurve = ql.DiscountCurve(discountDates,discountRates,ql.Actual365Fixed())\n",
    "swapEngine = ql.DiscountingSwapEngine(discountCurve)\n",
    "interestRateSwap = ql.VanillaSwap(swapT, nominal, fixedSchedule, \n",
    "               fixedRate,fixedLegDayCount,jibarIndex,spread,floatSchedule,\n",
    "               floatLegDayCount,swapEngine,floatSchedule.convention)"
   ]
  },
  {
   "cell_type": "code",
   "execution_count": null,
   "metadata": {},
   "outputs": [],
   "source": []
  }
 ],
 "metadata": {
  "kernelspec": {
   "display_name": "Python 3",
   "language": "python",
   "name": "python3"
  },
  "language_info": {
   "codemirror_mode": {
    "name": "ipython",
    "version": 3
   },
   "file_extension": ".py",
   "mimetype": "text/x-python",
   "name": "python",
   "nbconvert_exporter": "python",
   "pygments_lexer": "ipython3",
   "version": "3.7.6"
  }
 },
 "nbformat": 4,
 "nbformat_minor": 4
}
